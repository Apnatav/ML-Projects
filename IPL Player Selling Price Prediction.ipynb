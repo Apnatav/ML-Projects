{
 "cells": [
  {
   "cell_type": "markdown",
   "metadata": {},
   "source": [
    "# Players Selling Price Prediction using Multiple Linear Regression"
   ]
  },
  {
   "cell_type": "markdown",
   "metadata": {},
   "source": [
    "### IPL is one of the most loved cricket championship all around the world. It was started by BCCI in 2007 in India in 20-20 format having Indian as well as International players in the teams. "
   ]
  },
  {
   "cell_type": "markdown",
   "metadata": {},
   "source": [
    "According to the dataset given the following teams are - \n",
    "1. Bangalore Royal Challengers\n",
    "2. Chennai Super kings \n",
    "3. Deccan Chargers\n",
    "4. Delhi Daredevils\n",
    "5. Mumbai Indians\n",
    "6. Kolkata Knight Riders\n",
    "7. Rajasthan Royals\n",
    "8. Kings XI Punjab"
   ]
  },
  {
   "cell_type": "markdown",
   "metadata": {},
   "source": [
    "Using Dataset we will try to predict the selling price of a player based on their performances in other cricket formats."
   ]
  },
  {
   "cell_type": "markdown",
   "metadata": {},
   "source": [
    "#### Steps involved in developing a multiple linear regression model using Python.\n",
    "1. Importing the libraries\n",
    "2. Loading the datasets\n",
    "3. Encoding categorical features\n",
    "4. Splitting the dataset into train and test validation sets\n",
    "5. Building the model based on Training Dataset\n",
    "6. Multi collinearity and Handling Multi - Collinearity \n"
   ]
  },
  {
   "cell_type": "markdown",
   "metadata": {},
   "source": [
    "#### Importing the libraries"
   ]
  },
  {
   "cell_type": "code",
   "execution_count": 52,
   "metadata": {},
   "outputs": [],
   "source": [
    "import numpy as np\n",
    "import pandas as pd\n",
    "import matplotlib.pyplot as plt\n",
    "import seaborn as sns\n"
   ]
  },
  {
   "cell_type": "code",
   "execution_count": 53,
   "metadata": {},
   "outputs": [],
   "source": [
    "#### Loading the dataset"
   ]
  },
  {
   "cell_type": "code",
   "execution_count": 54,
   "metadata": {},
   "outputs": [],
   "source": [
    "ipl = pd.read_csv(\"C:\\\\Users\\\\hp\\\\IPLIMB381IPL2013.csv\")"
   ]
  },
  {
   "cell_type": "code",
   "execution_count": 55,
   "metadata": {},
   "outputs": [
    {
     "data": {
      "text/html": [
       "<div>\n",
       "<style scoped>\n",
       "    .dataframe tbody tr th:only-of-type {\n",
       "        vertical-align: middle;\n",
       "    }\n",
       "\n",
       "    .dataframe tbody tr th {\n",
       "        vertical-align: top;\n",
       "    }\n",
       "\n",
       "    .dataframe thead th {\n",
       "        text-align: right;\n",
       "    }\n",
       "</style>\n",
       "<table border=\"1\" class=\"dataframe\">\n",
       "  <thead>\n",
       "    <tr style=\"text-align: right;\">\n",
       "      <th></th>\n",
       "      <th>Sl.NO.</th>\n",
       "      <th>PLAYER NAME</th>\n",
       "      <th>AGE</th>\n",
       "      <th>COUNTRY</th>\n",
       "      <th>TEAM</th>\n",
       "      <th>PLAYING ROLE</th>\n",
       "      <th>T-RUNS</th>\n",
       "      <th>T-WKTS</th>\n",
       "      <th>ODI-RUNS-S</th>\n",
       "      <th>ODI-SR-B</th>\n",
       "      <th>...</th>\n",
       "      <th>SR-B</th>\n",
       "      <th>SIXERS</th>\n",
       "      <th>RUNS-C</th>\n",
       "      <th>WKTS</th>\n",
       "      <th>AVE-BL</th>\n",
       "      <th>ECON</th>\n",
       "      <th>SR-BL</th>\n",
       "      <th>AUCTION YEAR</th>\n",
       "      <th>BASE PRICE</th>\n",
       "      <th>SOLD PRICE</th>\n",
       "    </tr>\n",
       "  </thead>\n",
       "  <tbody>\n",
       "    <tr>\n",
       "      <th>0</th>\n",
       "      <td>1</td>\n",
       "      <td>Abdulla, YA</td>\n",
       "      <td>2</td>\n",
       "      <td>SA</td>\n",
       "      <td>KXIP</td>\n",
       "      <td>Allrounder</td>\n",
       "      <td>0</td>\n",
       "      <td>0</td>\n",
       "      <td>0</td>\n",
       "      <td>0.00</td>\n",
       "      <td>...</td>\n",
       "      <td>0.00</td>\n",
       "      <td>0</td>\n",
       "      <td>307</td>\n",
       "      <td>15</td>\n",
       "      <td>20.47</td>\n",
       "      <td>8.90</td>\n",
       "      <td>13.93</td>\n",
       "      <td>2009</td>\n",
       "      <td>50000</td>\n",
       "      <td>50000</td>\n",
       "    </tr>\n",
       "    <tr>\n",
       "      <th>1</th>\n",
       "      <td>2</td>\n",
       "      <td>Abdur Razzak</td>\n",
       "      <td>2</td>\n",
       "      <td>BAN</td>\n",
       "      <td>RCB</td>\n",
       "      <td>Bowler</td>\n",
       "      <td>214</td>\n",
       "      <td>18</td>\n",
       "      <td>657</td>\n",
       "      <td>71.41</td>\n",
       "      <td>...</td>\n",
       "      <td>0.00</td>\n",
       "      <td>0</td>\n",
       "      <td>29</td>\n",
       "      <td>0</td>\n",
       "      <td>0.00</td>\n",
       "      <td>14.50</td>\n",
       "      <td>0.00</td>\n",
       "      <td>2008</td>\n",
       "      <td>50000</td>\n",
       "      <td>50000</td>\n",
       "    </tr>\n",
       "    <tr>\n",
       "      <th>2</th>\n",
       "      <td>3</td>\n",
       "      <td>Agarkar, AB</td>\n",
       "      <td>2</td>\n",
       "      <td>IND</td>\n",
       "      <td>KKR</td>\n",
       "      <td>Bowler</td>\n",
       "      <td>571</td>\n",
       "      <td>58</td>\n",
       "      <td>1269</td>\n",
       "      <td>80.62</td>\n",
       "      <td>...</td>\n",
       "      <td>121.01</td>\n",
       "      <td>5</td>\n",
       "      <td>1059</td>\n",
       "      <td>29</td>\n",
       "      <td>36.52</td>\n",
       "      <td>8.81</td>\n",
       "      <td>24.90</td>\n",
       "      <td>2008</td>\n",
       "      <td>200000</td>\n",
       "      <td>350000</td>\n",
       "    </tr>\n",
       "    <tr>\n",
       "      <th>3</th>\n",
       "      <td>4</td>\n",
       "      <td>Ashwin, R</td>\n",
       "      <td>1</td>\n",
       "      <td>IND</td>\n",
       "      <td>CSK</td>\n",
       "      <td>Bowler</td>\n",
       "      <td>284</td>\n",
       "      <td>31</td>\n",
       "      <td>241</td>\n",
       "      <td>84.56</td>\n",
       "      <td>...</td>\n",
       "      <td>76.32</td>\n",
       "      <td>0</td>\n",
       "      <td>1125</td>\n",
       "      <td>49</td>\n",
       "      <td>22.96</td>\n",
       "      <td>6.23</td>\n",
       "      <td>22.14</td>\n",
       "      <td>2011</td>\n",
       "      <td>100000</td>\n",
       "      <td>850000</td>\n",
       "    </tr>\n",
       "    <tr>\n",
       "      <th>4</th>\n",
       "      <td>5</td>\n",
       "      <td>Badrinath, S</td>\n",
       "      <td>2</td>\n",
       "      <td>IND</td>\n",
       "      <td>CSK</td>\n",
       "      <td>Batsman</td>\n",
       "      <td>63</td>\n",
       "      <td>0</td>\n",
       "      <td>79</td>\n",
       "      <td>45.93</td>\n",
       "      <td>...</td>\n",
       "      <td>120.71</td>\n",
       "      <td>28</td>\n",
       "      <td>0</td>\n",
       "      <td>0</td>\n",
       "      <td>0.00</td>\n",
       "      <td>0.00</td>\n",
       "      <td>0.00</td>\n",
       "      <td>2011</td>\n",
       "      <td>100000</td>\n",
       "      <td>800000</td>\n",
       "    </tr>\n",
       "  </tbody>\n",
       "</table>\n",
       "<p>5 rows × 26 columns</p>\n",
       "</div>"
      ],
      "text/plain": [
       "   Sl.NO.   PLAYER NAME  AGE COUNTRY  TEAM PLAYING ROLE  T-RUNS  T-WKTS  \\\n",
       "0       1   Abdulla, YA    2      SA  KXIP   Allrounder       0       0   \n",
       "1       2  Abdur Razzak    2     BAN   RCB       Bowler     214      18   \n",
       "2       3   Agarkar, AB    2     IND   KKR       Bowler     571      58   \n",
       "3       4     Ashwin, R    1     IND   CSK       Bowler     284      31   \n",
       "4       5  Badrinath, S    2     IND   CSK      Batsman      63       0   \n",
       "\n",
       "   ODI-RUNS-S  ODI-SR-B  ...    SR-B  SIXERS  RUNS-C  WKTS  AVE-BL   ECON  \\\n",
       "0           0      0.00  ...    0.00       0     307    15   20.47   8.90   \n",
       "1         657     71.41  ...    0.00       0      29     0    0.00  14.50   \n",
       "2        1269     80.62  ...  121.01       5    1059    29   36.52   8.81   \n",
       "3         241     84.56  ...   76.32       0    1125    49   22.96   6.23   \n",
       "4          79     45.93  ...  120.71      28       0     0    0.00   0.00   \n",
       "\n",
       "   SR-BL  AUCTION YEAR  BASE PRICE  SOLD PRICE  \n",
       "0  13.93          2009       50000       50000  \n",
       "1   0.00          2008       50000       50000  \n",
       "2  24.90          2008      200000      350000  \n",
       "3  22.14          2011      100000      850000  \n",
       "4   0.00          2011      100000      800000  \n",
       "\n",
       "[5 rows x 26 columns]"
      ]
     },
     "execution_count": 55,
     "metadata": {},
     "output_type": "execute_result"
    }
   ],
   "source": [
    "ipl.head() "
   ]
  },
  {
   "cell_type": "code",
   "execution_count": 56,
   "metadata": {},
   "outputs": [
    {
     "name": "stdout",
     "output_type": "stream",
     "text": [
      "<class 'pandas.core.frame.DataFrame'>\n",
      "RangeIndex: 130 entries, 0 to 129\n",
      "Data columns (total 26 columns):\n",
      " #   Column         Non-Null Count  Dtype  \n",
      "---  ------         --------------  -----  \n",
      " 0   Sl.NO.         130 non-null    int64  \n",
      " 1   PLAYER NAME    130 non-null    object \n",
      " 2   AGE            130 non-null    int64  \n",
      " 3   COUNTRY        130 non-null    object \n",
      " 4   TEAM           130 non-null    object \n",
      " 5   PLAYING ROLE   130 non-null    object \n",
      " 6   T-RUNS         130 non-null    int64  \n",
      " 7   T-WKTS         130 non-null    int64  \n",
      " 8   ODI-RUNS-S     130 non-null    int64  \n",
      " 9   ODI-SR-B       130 non-null    float64\n",
      " 10  ODI-WKTS       130 non-null    int64  \n",
      " 11  ODI-SR-BL      130 non-null    float64\n",
      " 12  CAPTAINCY EXP  130 non-null    int64  \n",
      " 13  RUNS-S         130 non-null    int64  \n",
      " 14  HS             130 non-null    int64  \n",
      " 15  AVE            130 non-null    float64\n",
      " 16  SR-B           130 non-null    float64\n",
      " 17  SIXERS         130 non-null    int64  \n",
      " 18  RUNS-C         130 non-null    int64  \n",
      " 19  WKTS           130 non-null    int64  \n",
      " 20  AVE-BL         130 non-null    float64\n",
      " 21  ECON           130 non-null    float64\n",
      " 22  SR-BL          130 non-null    float64\n",
      " 23  AUCTION YEAR   130 non-null    int64  \n",
      " 24  BASE PRICE     130 non-null    int64  \n",
      " 25  SOLD PRICE     130 non-null    int64  \n",
      "dtypes: float64(7), int64(15), object(4)\n",
      "memory usage: 26.5+ KB\n"
     ]
    }
   ],
   "source": [
    "ipl.info()"
   ]
  },
  {
   "cell_type": "code",
   "execution_count": 57,
   "metadata": {},
   "outputs": [
    {
     "data": {
      "text/plain": [
       "Sl.NO.           0\n",
       "PLAYER NAME      0\n",
       "AGE              0\n",
       "COUNTRY          0\n",
       "TEAM             0\n",
       "PLAYING ROLE     0\n",
       "T-RUNS           0\n",
       "T-WKTS           0\n",
       "ODI-RUNS-S       0\n",
       "ODI-SR-B         0\n",
       "ODI-WKTS         0\n",
       "ODI-SR-BL        0\n",
       "CAPTAINCY EXP    0\n",
       "RUNS-S           0\n",
       "HS               0\n",
       "AVE              0\n",
       "SR-B             0\n",
       "SIXERS           0\n",
       "RUNS-C           0\n",
       "WKTS             0\n",
       "AVE-BL           0\n",
       "ECON             0\n",
       "SR-BL            0\n",
       "AUCTION YEAR     0\n",
       "BASE PRICE       0\n",
       "SOLD PRICE       0\n",
       "dtype: int64"
      ]
     },
     "execution_count": 57,
     "metadata": {},
     "output_type": "execute_result"
    }
   ],
   "source": [
    "ipl.isnull().sum()"
   ]
  },
  {
   "cell_type": "markdown",
   "metadata": {},
   "source": [
    "No Null values, we can contiue easily\n",
    "There are 130 observations and 26  columns in the dataset."
   ]
  },
  {
   "cell_type": "markdown",
   "metadata": {},
   "source": [
    "Lets built a model to understand what features of players are influencing their sold price or predict the player's auction price in future.\n",
    "I am creating a variable x_features which will contain the list of features that used for building the model"
   ]
  },
  {
   "cell_type": "code",
   "execution_count": 58,
   "metadata": {},
   "outputs": [],
   "source": [
    "x_features = ipl.columns"
   ]
  },
  {
   "cell_type": "markdown",
   "metadata": {},
   "source": [
    "Most of the  features in the dataset are numerical whereas such as age, country, captaincy-exp, playing-role and these will be encoded for building the model."
   ]
  },
  {
   "cell_type": "code",
   "execution_count": 59,
   "metadata": {},
   "outputs": [],
   "source": [
    "x_features = ['AGE','COUNTRY','PLAYING ROLE','T-RUNS','T-WKTS','ODI-RUNS-S','ODI-SR-B','ODI-WKTS','ODI-SR-BL','CAPTAINCY EXP','RUNS-S','HS','AVE','SR-B','SIXERS','RUNS-C','WKTS','AVE-BL','ECON','SR-BL']"
   ]
  },
  {
   "cell_type": "markdown",
   "metadata": {},
   "source": [
    "Categorical values cannot be directly included in the regression model and they must be encoded using dummy variables before model building."
   ]
  },
  {
   "cell_type": "markdown",
   "metadata": {},
   "source": [
    "#### Encoding categorical features\n"
   ]
  },
  {
   "cell_type": "code",
   "execution_count": 60,
   "metadata": {},
   "outputs": [
    {
     "data": {
      "text/plain": [
       "array(['Allrounder', 'Bowler', 'Batsman', 'W. Keeper'], dtype=object)"
      ]
     },
     "execution_count": 60,
     "metadata": {},
     "output_type": "execute_result"
    }
   ],
   "source": [
    "ipl['PLAYING ROLE'].unique()"
   ]
  },
  {
   "cell_type": "code",
   "execution_count": 61,
   "metadata": {},
   "outputs": [
    {
     "data": {
      "text/html": [
       "<div>\n",
       "<style scoped>\n",
       "    .dataframe tbody tr th:only-of-type {\n",
       "        vertical-align: middle;\n",
       "    }\n",
       "\n",
       "    .dataframe tbody tr th {\n",
       "        vertical-align: top;\n",
       "    }\n",
       "\n",
       "    .dataframe thead th {\n",
       "        text-align: right;\n",
       "    }\n",
       "</style>\n",
       "<table border=\"1\" class=\"dataframe\">\n",
       "  <thead>\n",
       "    <tr style=\"text-align: right;\">\n",
       "      <th></th>\n",
       "      <th>Allrounder</th>\n",
       "      <th>Batsman</th>\n",
       "      <th>Bowler</th>\n",
       "      <th>W. Keeper</th>\n",
       "    </tr>\n",
       "  </thead>\n",
       "  <tbody>\n",
       "    <tr>\n",
       "      <th>0</th>\n",
       "      <td>1</td>\n",
       "      <td>0</td>\n",
       "      <td>0</td>\n",
       "      <td>0</td>\n",
       "    </tr>\n",
       "    <tr>\n",
       "      <th>1</th>\n",
       "      <td>0</td>\n",
       "      <td>0</td>\n",
       "      <td>1</td>\n",
       "      <td>0</td>\n",
       "    </tr>\n",
       "    <tr>\n",
       "      <th>2</th>\n",
       "      <td>0</td>\n",
       "      <td>0</td>\n",
       "      <td>1</td>\n",
       "      <td>0</td>\n",
       "    </tr>\n",
       "    <tr>\n",
       "      <th>3</th>\n",
       "      <td>0</td>\n",
       "      <td>0</td>\n",
       "      <td>1</td>\n",
       "      <td>0</td>\n",
       "    </tr>\n",
       "    <tr>\n",
       "      <th>4</th>\n",
       "      <td>0</td>\n",
       "      <td>1</td>\n",
       "      <td>0</td>\n",
       "      <td>0</td>\n",
       "    </tr>\n",
       "    <tr>\n",
       "      <th>...</th>\n",
       "      <td>...</td>\n",
       "      <td>...</td>\n",
       "      <td>...</td>\n",
       "      <td>...</td>\n",
       "    </tr>\n",
       "    <tr>\n",
       "      <th>125</th>\n",
       "      <td>0</td>\n",
       "      <td>1</td>\n",
       "      <td>0</td>\n",
       "      <td>0</td>\n",
       "    </tr>\n",
       "    <tr>\n",
       "      <th>126</th>\n",
       "      <td>0</td>\n",
       "      <td>1</td>\n",
       "      <td>0</td>\n",
       "      <td>0</td>\n",
       "    </tr>\n",
       "    <tr>\n",
       "      <th>127</th>\n",
       "      <td>0</td>\n",
       "      <td>1</td>\n",
       "      <td>0</td>\n",
       "      <td>0</td>\n",
       "    </tr>\n",
       "    <tr>\n",
       "      <th>128</th>\n",
       "      <td>0</td>\n",
       "      <td>0</td>\n",
       "      <td>1</td>\n",
       "      <td>0</td>\n",
       "    </tr>\n",
       "    <tr>\n",
       "      <th>129</th>\n",
       "      <td>0</td>\n",
       "      <td>0</td>\n",
       "      <td>1</td>\n",
       "      <td>0</td>\n",
       "    </tr>\n",
       "  </tbody>\n",
       "</table>\n",
       "<p>130 rows × 4 columns</p>\n",
       "</div>"
      ],
      "text/plain": [
       "     Allrounder  Batsman  Bowler  W. Keeper\n",
       "0             1        0       0          0\n",
       "1             0        0       1          0\n",
       "2             0        0       1          0\n",
       "3             0        0       1          0\n",
       "4             0        1       0          0\n",
       "..          ...      ...     ...        ...\n",
       "125           0        1       0          0\n",
       "126           0        1       0          0\n",
       "127           0        1       0          0\n",
       "128           0        0       1          0\n",
       "129           0        0       1          0\n",
       "\n",
       "[130 rows x 4 columns]"
      ]
     },
     "execution_count": 61,
     "metadata": {},
     "output_type": "execute_result"
    }
   ],
   "source": [
    "pd.get_dummies(ipl['PLAYING ROLE'])"
   ]
  },
  {
   "cell_type": "markdown",
   "metadata": {},
   "source": [
    "I have created dummy variables for all categorical variables present in dataset."
   ]
  },
  {
   "cell_type": "code",
   "execution_count": 62,
   "metadata": {},
   "outputs": [
    {
     "data": {
      "text/plain": [
       "Index(['T-RUNS', 'T-WKTS', 'ODI-RUNS-S', 'ODI-SR-B', 'ODI-WKTS', 'ODI-SR-BL',\n",
       "       'RUNS-S', 'HS', 'AVE', 'SR-B', 'SIXERS', 'RUNS-C', 'WKTS', 'AVE-BL',\n",
       "       'ECON', 'SR-BL', 'AGE_2', 'AGE_3', 'COUNTRY_BAN', 'COUNTRY_ENG',\n",
       "       'COUNTRY_IND', 'COUNTRY_NZ', 'COUNTRY_PAK', 'COUNTRY_SA', 'COUNTRY_SL',\n",
       "       'COUNTRY_WI', 'COUNTRY_ZIM', 'PLAYING ROLE_Batsman',\n",
       "       'PLAYING ROLE_Bowler', 'PLAYING ROLE_W. Keeper', 'CAPTAINCY EXP_1'],\n",
       "      dtype='object')"
      ]
     },
     "execution_count": 62,
     "metadata": {},
     "output_type": "execute_result"
    }
   ],
   "source": [
    "cate_features = ['AGE','COUNTRY','PLAYING ROLE','CAPTAINCY EXP']\n",
    "ipl_encoded = pd.get_dummies(ipl[x_features],columns=cate_features, drop_first = True)\n",
    "ipl_encoded.columns"
   ]
  },
  {
   "cell_type": "markdown",
   "metadata": {},
   "source": [
    "The dataset contains the new dummy variables that have been created and we can reassign the new features to the variable x_features. "
   ]
  },
  {
   "cell_type": "code",
   "execution_count": 63,
   "metadata": {},
   "outputs": [],
   "source": [
    "x_features = ipl_encoded.columns"
   ]
  },
  {
   "cell_type": "markdown",
   "metadata": {},
   "source": [
    "#### Splitting the dataset into train and test validation sets"
   ]
  },
  {
   "cell_type": "markdown",
   "metadata": {},
   "source": [
    "Before building the model, we will split the datasets into 80-20 ratios and random state value is 42."
   ]
  },
  {
   "cell_type": "code",
   "execution_count": 64,
   "metadata": {},
   "outputs": [],
   "source": [
    "from statsmodels import api as sm\n",
    "from sklearn.model_selection import train_test_split"
   ]
  },
  {
   "cell_type": "code",
   "execution_count": 65,
   "metadata": {},
   "outputs": [],
   "source": [
    "x = sm.add_constant(ipl_encoded)\n",
    "y = ipl['SOLD PRICE']\n",
    "x_train, x_test, y_train, y_test = train_test_split(x,y, test_size = 0.8, random_state = 42)"
   ]
  },
  {
   "cell_type": "markdown",
   "metadata": {},
   "source": [
    "Using another random value may give different training and test data hence different results."
   ]
  },
  {
   "cell_type": "markdown",
   "metadata": {},
   "source": [
    "#### Building the model based on Training Dataset"
   ]
  },
  {
   "cell_type": "markdown",
   "metadata": {},
   "source": [
    "I will build the Multiple Linear Regression (MLR) model using the training dataset and analyze the model summary.The summary provides details of the model accuracy, feature significance and signs of multi colliearity effect."
   ]
  },
  {
   "cell_type": "code",
   "execution_count": 66,
   "metadata": {},
   "outputs": [
    {
     "name": "stderr",
     "output_type": "stream",
     "text": [
      "C:\\ProgramData\\Anaconda3\\lib\\site-packages\\statsmodels\\regression\\linear_model.py:1698: RuntimeWarning: divide by zero encountered in true_divide\n",
      "  return 1 - (np.divide(self.nobs - self.k_constant, self.df_resid)\n",
      "C:\\ProgramData\\Anaconda3\\lib\\site-packages\\statsmodels\\regression\\linear_model.py:1699: RuntimeWarning: invalid value encountered in double_scalars\n",
      "  * (1 - self.rsquared))\n",
      "C:\\ProgramData\\Anaconda3\\lib\\site-packages\\scipy\\stats\\_distn_infrastructure.py:903: RuntimeWarning: invalid value encountered in greater\n",
      "  return (a < x) & (x < b)\n",
      "C:\\ProgramData\\Anaconda3\\lib\\site-packages\\scipy\\stats\\_distn_infrastructure.py:903: RuntimeWarning: invalid value encountered in less\n",
      "  return (a < x) & (x < b)\n",
      "C:\\ProgramData\\Anaconda3\\lib\\site-packages\\scipy\\stats\\_distn_infrastructure.py:1912: RuntimeWarning: invalid value encountered in less_equal\n",
      "  cond2 = cond0 & (x <= _a)\n",
      "C:\\ProgramData\\Anaconda3\\lib\\site-packages\\statsmodels\\regression\\linear_model.py:1620: RuntimeWarning: divide by zero encountered in double_scalars\n",
      "  return np.dot(wresid, wresid) / self.df_resid\n"
     ]
    },
    {
     "data": {
      "text/html": [
       "<table class=\"simpletable\">\n",
       "<caption>OLS Regression Results</caption>\n",
       "<tr>\n",
       "  <th>Dep. Variable:</th>       <td>SOLD PRICE</td>    <th>  R-squared:         </th> <td>   1.000</td>\n",
       "</tr>\n",
       "<tr>\n",
       "  <th>Model:</th>                   <td>OLS</td>       <th>  Adj. R-squared:    </th> <td>     nan</td>\n",
       "</tr>\n",
       "<tr>\n",
       "  <th>Method:</th>             <td>Least Squares</td>  <th>  F-statistic:       </th> <td>     nan</td>\n",
       "</tr>\n",
       "<tr>\n",
       "  <th>Date:</th>             <td>Wed, 04 Aug 2021</td> <th>  Prob (F-statistic):</th>  <td>   nan</td> \n",
       "</tr>\n",
       "<tr>\n",
       "  <th>Time:</th>                 <td>14:22:18</td>     <th>  Log-Likelihood:    </th> <td>  312.53</td>\n",
       "</tr>\n",
       "<tr>\n",
       "  <th>No. Observations:</th>      <td>    26</td>      <th>  AIC:               </th> <td>  -573.1</td>\n",
       "</tr>\n",
       "<tr>\n",
       "  <th>Df Residuals:</th>          <td>     0</td>      <th>  BIC:               </th> <td>  -540.3</td>\n",
       "</tr>\n",
       "<tr>\n",
       "  <th>Df Model:</th>              <td>    25</td>      <th>                     </th>     <td> </td>   \n",
       "</tr>\n",
       "<tr>\n",
       "  <th>Covariance Type:</th>      <td>nonrobust</td>    <th>                     </th>     <td> </td>   \n",
       "</tr>\n",
       "</table>\n",
       "<table class=\"simpletable\">\n",
       "<tr>\n",
       "             <td></td>               <th>coef</th>     <th>std err</th>      <th>t</th>      <th>P>|t|</th>  <th>[0.025</th>    <th>0.975]</th>  \n",
       "</tr>\n",
       "<tr>\n",
       "  <th>const</th>                  <td> 8.899e+05</td> <td>      inf</td> <td>        0</td> <td>   nan</td> <td>      nan</td> <td>      nan</td>\n",
       "</tr>\n",
       "<tr>\n",
       "  <th>T-RUNS</th>                 <td>   -8.4505</td> <td>      inf</td> <td>       -0</td> <td>   nan</td> <td>      nan</td> <td>      nan</td>\n",
       "</tr>\n",
       "<tr>\n",
       "  <th>T-WKTS</th>                 <td> -789.8825</td> <td>      inf</td> <td>       -0</td> <td>   nan</td> <td>      nan</td> <td>      nan</td>\n",
       "</tr>\n",
       "<tr>\n",
       "  <th>ODI-RUNS-S</th>             <td>  -18.5443</td> <td>      inf</td> <td>       -0</td> <td>   nan</td> <td>      nan</td> <td>      nan</td>\n",
       "</tr>\n",
       "<tr>\n",
       "  <th>ODI-SR-B</th>               <td>-3968.0917</td> <td>      inf</td> <td>       -0</td> <td>   nan</td> <td>      nan</td> <td>      nan</td>\n",
       "</tr>\n",
       "<tr>\n",
       "  <th>ODI-WKTS</th>               <td> 1106.1315</td> <td>      inf</td> <td>        0</td> <td>   nan</td> <td>      nan</td> <td>      nan</td>\n",
       "</tr>\n",
       "<tr>\n",
       "  <th>ODI-SR-BL</th>              <td>    -1e+04</td> <td>      inf</td> <td>       -0</td> <td>   nan</td> <td>      nan</td> <td>      nan</td>\n",
       "</tr>\n",
       "<tr>\n",
       "  <th>RUNS-S</th>                 <td> -119.7123</td> <td>      inf</td> <td>       -0</td> <td>   nan</td> <td>      nan</td> <td>      nan</td>\n",
       "</tr>\n",
       "<tr>\n",
       "  <th>HS</th>                     <td>-7054.0690</td> <td>      inf</td> <td>       -0</td> <td>   nan</td> <td>      nan</td> <td>      nan</td>\n",
       "</tr>\n",
       "<tr>\n",
       "  <th>AVE</th>                    <td> 3.024e+04</td> <td>      inf</td> <td>        0</td> <td>   nan</td> <td>      nan</td> <td>      nan</td>\n",
       "</tr>\n",
       "<tr>\n",
       "  <th>SR-B</th>                   <td>-3917.3870</td> <td>      inf</td> <td>       -0</td> <td>   nan</td> <td>      nan</td> <td>      nan</td>\n",
       "</tr>\n",
       "<tr>\n",
       "  <th>SIXERS</th>                 <td> 1.209e+04</td> <td>      inf</td> <td>        0</td> <td>   nan</td> <td>      nan</td> <td>      nan</td>\n",
       "</tr>\n",
       "<tr>\n",
       "  <th>RUNS-C</th>                 <td> -108.3615</td> <td>      inf</td> <td>       -0</td> <td>   nan</td> <td>      nan</td> <td>      nan</td>\n",
       "</tr>\n",
       "<tr>\n",
       "  <th>WKTS</th>                   <td> 1.314e+04</td> <td>      inf</td> <td>        0</td> <td>   nan</td> <td>      nan</td> <td>      nan</td>\n",
       "</tr>\n",
       "<tr>\n",
       "  <th>AVE-BL</th>                 <td> 1.213e+04</td> <td>      inf</td> <td>        0</td> <td>   nan</td> <td>      nan</td> <td>      nan</td>\n",
       "</tr>\n",
       "<tr>\n",
       "  <th>ECON</th>                   <td>-5.241e+04</td> <td>      inf</td> <td>       -0</td> <td>   nan</td> <td>      nan</td> <td>      nan</td>\n",
       "</tr>\n",
       "<tr>\n",
       "  <th>SR-BL</th>                  <td>-1.305e+04</td> <td>      inf</td> <td>       -0</td> <td>   nan</td> <td>      nan</td> <td>      nan</td>\n",
       "</tr>\n",
       "<tr>\n",
       "  <th>AGE_2</th>                  <td> 4.375e+05</td> <td>      inf</td> <td>        0</td> <td>   nan</td> <td>      nan</td> <td>      nan</td>\n",
       "</tr>\n",
       "<tr>\n",
       "  <th>AGE_3</th>                  <td> 4.524e+05</td> <td>      inf</td> <td>        0</td> <td>   nan</td> <td>      nan</td> <td>      nan</td>\n",
       "</tr>\n",
       "<tr>\n",
       "  <th>COUNTRY_BAN</th>            <td> 4.579e+04</td> <td>      inf</td> <td>        0</td> <td>   nan</td> <td>      nan</td> <td>      nan</td>\n",
       "</tr>\n",
       "<tr>\n",
       "  <th>COUNTRY_ENG</th>            <td> 3.354e+05</td> <td>      inf</td> <td>        0</td> <td>   nan</td> <td>      nan</td> <td>      nan</td>\n",
       "</tr>\n",
       "<tr>\n",
       "  <th>COUNTRY_IND</th>            <td>-2.708e+05</td> <td>      inf</td> <td>       -0</td> <td>   nan</td> <td>      nan</td> <td>      nan</td>\n",
       "</tr>\n",
       "<tr>\n",
       "  <th>COUNTRY_NZ</th>             <td>-1.312e+05</td> <td>      inf</td> <td>       -0</td> <td>   nan</td> <td>      nan</td> <td>      nan</td>\n",
       "</tr>\n",
       "<tr>\n",
       "  <th>COUNTRY_PAK</th>            <td> -1.38e+05</td> <td>      inf</td> <td>       -0</td> <td>   nan</td> <td>      nan</td> <td>      nan</td>\n",
       "</tr>\n",
       "<tr>\n",
       "  <th>COUNTRY_SA</th>             <td>-1.816e+05</td> <td>      inf</td> <td>       -0</td> <td>   nan</td> <td>      nan</td> <td>      nan</td>\n",
       "</tr>\n",
       "<tr>\n",
       "  <th>COUNTRY_SL</th>             <td> 7.817e+04</td> <td>      inf</td> <td>        0</td> <td>   nan</td> <td>      nan</td> <td>      nan</td>\n",
       "</tr>\n",
       "<tr>\n",
       "  <th>COUNTRY_WI</th>             <td> 1766.1377</td> <td>      inf</td> <td>        0</td> <td>   nan</td> <td>      nan</td> <td>      nan</td>\n",
       "</tr>\n",
       "<tr>\n",
       "  <th>COUNTRY_ZIM</th>            <td>-4.683e+05</td> <td>      inf</td> <td>       -0</td> <td>   nan</td> <td>      nan</td> <td>      nan</td>\n",
       "</tr>\n",
       "<tr>\n",
       "  <th>PLAYING ROLE_Batsman</th>   <td>-2.412e+05</td> <td>      inf</td> <td>       -0</td> <td>   nan</td> <td>      nan</td> <td>      nan</td>\n",
       "</tr>\n",
       "<tr>\n",
       "  <th>PLAYING ROLE_Bowler</th>    <td>-7.708e+04</td> <td>      inf</td> <td>       -0</td> <td>   nan</td> <td>      nan</td> <td>      nan</td>\n",
       "</tr>\n",
       "<tr>\n",
       "  <th>PLAYING ROLE_W. Keeper</th> <td>-3.186e+05</td> <td>      inf</td> <td>       -0</td> <td>   nan</td> <td>      nan</td> <td>      nan</td>\n",
       "</tr>\n",
       "<tr>\n",
       "  <th>CAPTAINCY EXP_1</th>        <td> 6.116e+05</td> <td>      inf</td> <td>        0</td> <td>   nan</td> <td>      nan</td> <td>      nan</td>\n",
       "</tr>\n",
       "</table>\n",
       "<table class=\"simpletable\">\n",
       "<tr>\n",
       "  <th>Omnibus:</th>       <td>38.114</td> <th>  Durbin-Watson:     </th> <td>   1.715</td>\n",
       "</tr>\n",
       "<tr>\n",
       "  <th>Prob(Omnibus):</th> <td> 0.000</td> <th>  Jarque-Bera (JB):  </th> <td> 114.267</td>\n",
       "</tr>\n",
       "<tr>\n",
       "  <th>Skew:</th>          <td> 2.827</td> <th>  Prob(JB):          </th> <td>1.54e-25</td>\n",
       "</tr>\n",
       "<tr>\n",
       "  <th>Kurtosis:</th>      <td>11.574</td> <th>  Cond. No.          </th> <td>2.28e+05</td>\n",
       "</tr>\n",
       "</table><br/><br/>Warnings:<br/>[1] Standard Errors assume that the covariance matrix of the errors is correctly specified.<br/>[2] The input rank is higher than the number of observations.<br/>[3] The condition number is large, 2.28e+05. This might indicate that there are<br/>strong multicollinearity or other numerical problems."
      ],
      "text/plain": [
       "<class 'statsmodels.iolib.summary.Summary'>\n",
       "\"\"\"\n",
       "                            OLS Regression Results                            \n",
       "==============================================================================\n",
       "Dep. Variable:             SOLD PRICE   R-squared:                       1.000\n",
       "Model:                            OLS   Adj. R-squared:                    nan\n",
       "Method:                 Least Squares   F-statistic:                       nan\n",
       "Date:                Wed, 04 Aug 2021   Prob (F-statistic):                nan\n",
       "Time:                        14:22:18   Log-Likelihood:                 312.53\n",
       "No. Observations:                  26   AIC:                            -573.1\n",
       "Df Residuals:                       0   BIC:                            -540.3\n",
       "Df Model:                          25                                         \n",
       "Covariance Type:            nonrobust                                         \n",
       "==========================================================================================\n",
       "                             coef    std err          t      P>|t|      [0.025      0.975]\n",
       "------------------------------------------------------------------------------------------\n",
       "const                   8.899e+05        inf          0        nan         nan         nan\n",
       "T-RUNS                    -8.4505        inf         -0        nan         nan         nan\n",
       "T-WKTS                  -789.8825        inf         -0        nan         nan         nan\n",
       "ODI-RUNS-S               -18.5443        inf         -0        nan         nan         nan\n",
       "ODI-SR-B               -3968.0917        inf         -0        nan         nan         nan\n",
       "ODI-WKTS                1106.1315        inf          0        nan         nan         nan\n",
       "ODI-SR-BL                  -1e+04        inf         -0        nan         nan         nan\n",
       "RUNS-S                  -119.7123        inf         -0        nan         nan         nan\n",
       "HS                     -7054.0690        inf         -0        nan         nan         nan\n",
       "AVE                     3.024e+04        inf          0        nan         nan         nan\n",
       "SR-B                   -3917.3870        inf         -0        nan         nan         nan\n",
       "SIXERS                  1.209e+04        inf          0        nan         nan         nan\n",
       "RUNS-C                  -108.3615        inf         -0        nan         nan         nan\n",
       "WKTS                    1.314e+04        inf          0        nan         nan         nan\n",
       "AVE-BL                  1.213e+04        inf          0        nan         nan         nan\n",
       "ECON                   -5.241e+04        inf         -0        nan         nan         nan\n",
       "SR-BL                  -1.305e+04        inf         -0        nan         nan         nan\n",
       "AGE_2                   4.375e+05        inf          0        nan         nan         nan\n",
       "AGE_3                   4.524e+05        inf          0        nan         nan         nan\n",
       "COUNTRY_BAN             4.579e+04        inf          0        nan         nan         nan\n",
       "COUNTRY_ENG             3.354e+05        inf          0        nan         nan         nan\n",
       "COUNTRY_IND            -2.708e+05        inf         -0        nan         nan         nan\n",
       "COUNTRY_NZ             -1.312e+05        inf         -0        nan         nan         nan\n",
       "COUNTRY_PAK             -1.38e+05        inf         -0        nan         nan         nan\n",
       "COUNTRY_SA             -1.816e+05        inf         -0        nan         nan         nan\n",
       "COUNTRY_SL              7.817e+04        inf          0        nan         nan         nan\n",
       "COUNTRY_WI              1766.1377        inf          0        nan         nan         nan\n",
       "COUNTRY_ZIM            -4.683e+05        inf         -0        nan         nan         nan\n",
       "PLAYING ROLE_Batsman   -2.412e+05        inf         -0        nan         nan         nan\n",
       "PLAYING ROLE_Bowler    -7.708e+04        inf         -0        nan         nan         nan\n",
       "PLAYING ROLE_W. Keeper -3.186e+05        inf         -0        nan         nan         nan\n",
       "CAPTAINCY EXP_1         6.116e+05        inf          0        nan         nan         nan\n",
       "==============================================================================\n",
       "Omnibus:                       38.114   Durbin-Watson:                   1.715\n",
       "Prob(Omnibus):                  0.000   Jarque-Bera (JB):              114.267\n",
       "Skew:                           2.827   Prob(JB):                     1.54e-25\n",
       "Kurtosis:                      11.574   Cond. No.                     2.28e+05\n",
       "==============================================================================\n",
       "\n",
       "Warnings:\n",
       "[1] Standard Errors assume that the covariance matrix of the errors is correctly specified.\n",
       "[2] The input rank is higher than the number of observations.\n",
       "[3] The condition number is large, 2.28e+05. This might indicate that there are\n",
       "strong multicollinearity or other numerical problems.\n",
       "\"\"\""
      ]
     },
     "execution_count": 66,
     "metadata": {},
     "output_type": "execute_result"
    }
   ],
   "source": [
    "ipl_model = sm.OLS(y_train,x_train).fit()\n",
    "ipl_model.summary()"
   ]
  },
  {
   "cell_type": "markdown",
   "metadata": {},
   "source": [
    "In the MLR as the p value (<0.05) only the features HS, AGE_2, AVE and Country_ENG have come out significant. The model says that none of the other features is influencing sold price."
   ]
  },
  {
   "cell_type": "markdown",
   "metadata": {},
   "source": [
    "#### Multi collinearity and Handling Multi - Collinearity\n",
    "The existence of a high correlation between independent variables is called multi-collinearity.\n",
    "The presence of multicollinearity can destabilize the multiple linear regression model. It is necessary to identify the presence of multi-collinearity and take corrective actions."
   ]
  },
  {
   "cell_type": "markdown",
   "metadata": {},
   "source": [
    "##### 1. Variance Inflation Factor(VIP)\n",
    "variance_inflation_factore() method available in statsmodels.stats.outliers_influence package can be used to calculate VIF for the features."
   ]
  },
  {
   "cell_type": "code",
   "execution_count": 67,
   "metadata": {},
   "outputs": [],
   "source": [
    "from statsmodels.stats.outliers_influence import variance_inflation_factor\n",
    "def get_vif_factors(x):\n",
    "    x_matrix=x.to_numpy()\n",
    "    vif=[variance_inflation_factor(x_matrix,i) for i in range (x_matrix.shape[1])]\n",
    "    vif_factors=pd.DataFrame()\n",
    "    vif_factors['column']=x.columns\n",
    "    vif_factors['VIF']=vif\n",
    "    return vif_factors"
   ]
  },
  {
   "cell_type": "code",
   "execution_count": 68,
   "metadata": {},
   "outputs": [
    {
     "data": {
      "text/html": [
       "<div>\n",
       "<style scoped>\n",
       "    .dataframe tbody tr th:only-of-type {\n",
       "        vertical-align: middle;\n",
       "    }\n",
       "\n",
       "    .dataframe tbody tr th {\n",
       "        vertical-align: top;\n",
       "    }\n",
       "\n",
       "    .dataframe thead th {\n",
       "        text-align: right;\n",
       "    }\n",
       "</style>\n",
       "<table border=\"1\" class=\"dataframe\">\n",
       "  <thead>\n",
       "    <tr style=\"text-align: right;\">\n",
       "      <th></th>\n",
       "      <th>column</th>\n",
       "      <th>VIF</th>\n",
       "    </tr>\n",
       "  </thead>\n",
       "  <tbody>\n",
       "    <tr>\n",
       "      <th>0</th>\n",
       "      <td>T-RUNS</td>\n",
       "      <td>12.612694</td>\n",
       "    </tr>\n",
       "    <tr>\n",
       "      <th>1</th>\n",
       "      <td>T-WKTS</td>\n",
       "      <td>7.679284</td>\n",
       "    </tr>\n",
       "    <tr>\n",
       "      <th>2</th>\n",
       "      <td>ODI-RUNS-S</td>\n",
       "      <td>16.426209</td>\n",
       "    </tr>\n",
       "    <tr>\n",
       "      <th>3</th>\n",
       "      <td>ODI-SR-B</td>\n",
       "      <td>13.829376</td>\n",
       "    </tr>\n",
       "    <tr>\n",
       "      <th>4</th>\n",
       "      <td>ODI-WKTS</td>\n",
       "      <td>9.951800</td>\n",
       "    </tr>\n",
       "    <tr>\n",
       "      <th>5</th>\n",
       "      <td>ODI-SR-BL</td>\n",
       "      <td>4.426818</td>\n",
       "    </tr>\n",
       "    <tr>\n",
       "      <th>6</th>\n",
       "      <td>RUNS-S</td>\n",
       "      <td>16.135407</td>\n",
       "    </tr>\n",
       "    <tr>\n",
       "      <th>7</th>\n",
       "      <td>HS</td>\n",
       "      <td>22.781017</td>\n",
       "    </tr>\n",
       "    <tr>\n",
       "      <th>8</th>\n",
       "      <td>AVE</td>\n",
       "      <td>25.226566</td>\n",
       "    </tr>\n",
       "    <tr>\n",
       "      <th>9</th>\n",
       "      <td>SR-B</td>\n",
       "      <td>21.576204</td>\n",
       "    </tr>\n",
       "    <tr>\n",
       "      <th>10</th>\n",
       "      <td>SIXERS</td>\n",
       "      <td>9.547268</td>\n",
       "    </tr>\n",
       "    <tr>\n",
       "      <th>11</th>\n",
       "      <td>RUNS-C</td>\n",
       "      <td>38.229691</td>\n",
       "    </tr>\n",
       "    <tr>\n",
       "      <th>12</th>\n",
       "      <td>WKTS</td>\n",
       "      <td>33.366067</td>\n",
       "    </tr>\n",
       "    <tr>\n",
       "      <th>13</th>\n",
       "      <td>AVE-BL</td>\n",
       "      <td>100.198105</td>\n",
       "    </tr>\n",
       "    <tr>\n",
       "      <th>14</th>\n",
       "      <td>ECON</td>\n",
       "      <td>7.650140</td>\n",
       "    </tr>\n",
       "    <tr>\n",
       "      <th>15</th>\n",
       "      <td>SR-BL</td>\n",
       "      <td>103.723846</td>\n",
       "    </tr>\n",
       "    <tr>\n",
       "      <th>16</th>\n",
       "      <td>AGE_2</td>\n",
       "      <td>6.996226</td>\n",
       "    </tr>\n",
       "    <tr>\n",
       "      <th>17</th>\n",
       "      <td>AGE_3</td>\n",
       "      <td>3.855003</td>\n",
       "    </tr>\n",
       "    <tr>\n",
       "      <th>18</th>\n",
       "      <td>COUNTRY_BAN</td>\n",
       "      <td>1.469017</td>\n",
       "    </tr>\n",
       "    <tr>\n",
       "      <th>19</th>\n",
       "      <td>COUNTRY_ENG</td>\n",
       "      <td>1.391524</td>\n",
       "    </tr>\n",
       "    <tr>\n",
       "      <th>20</th>\n",
       "      <td>COUNTRY_IND</td>\n",
       "      <td>4.568898</td>\n",
       "    </tr>\n",
       "    <tr>\n",
       "      <th>21</th>\n",
       "      <td>COUNTRY_NZ</td>\n",
       "      <td>1.497856</td>\n",
       "    </tr>\n",
       "    <tr>\n",
       "      <th>22</th>\n",
       "      <td>COUNTRY_PAK</td>\n",
       "      <td>1.796355</td>\n",
       "    </tr>\n",
       "    <tr>\n",
       "      <th>23</th>\n",
       "      <td>COUNTRY_SA</td>\n",
       "      <td>1.886555</td>\n",
       "    </tr>\n",
       "    <tr>\n",
       "      <th>24</th>\n",
       "      <td>COUNTRY_SL</td>\n",
       "      <td>1.984902</td>\n",
       "    </tr>\n",
       "    <tr>\n",
       "      <th>25</th>\n",
       "      <td>COUNTRY_WI</td>\n",
       "      <td>1.531847</td>\n",
       "    </tr>\n",
       "    <tr>\n",
       "      <th>26</th>\n",
       "      <td>COUNTRY_ZIM</td>\n",
       "      <td>1.312168</td>\n",
       "    </tr>\n",
       "    <tr>\n",
       "      <th>27</th>\n",
       "      <td>PLAYING ROLE_Batsman</td>\n",
       "      <td>4.843136</td>\n",
       "    </tr>\n",
       "    <tr>\n",
       "      <th>28</th>\n",
       "      <td>PLAYING ROLE_Bowler</td>\n",
       "      <td>3.795864</td>\n",
       "    </tr>\n",
       "    <tr>\n",
       "      <th>29</th>\n",
       "      <td>PLAYING ROLE_W. Keeper</td>\n",
       "      <td>3.132044</td>\n",
       "    </tr>\n",
       "    <tr>\n",
       "      <th>30</th>\n",
       "      <td>CAPTAINCY EXP_1</td>\n",
       "      <td>4.245128</td>\n",
       "    </tr>\n",
       "  </tbody>\n",
       "</table>\n",
       "</div>"
      ],
      "text/plain": [
       "                    column         VIF\n",
       "0                   T-RUNS   12.612694\n",
       "1                   T-WKTS    7.679284\n",
       "2               ODI-RUNS-S   16.426209\n",
       "3                 ODI-SR-B   13.829376\n",
       "4                 ODI-WKTS    9.951800\n",
       "5                ODI-SR-BL    4.426818\n",
       "6                   RUNS-S   16.135407\n",
       "7                       HS   22.781017\n",
       "8                      AVE   25.226566\n",
       "9                     SR-B   21.576204\n",
       "10                  SIXERS    9.547268\n",
       "11                  RUNS-C   38.229691\n",
       "12                    WKTS   33.366067\n",
       "13                  AVE-BL  100.198105\n",
       "14                    ECON    7.650140\n",
       "15                   SR-BL  103.723846\n",
       "16                   AGE_2    6.996226\n",
       "17                   AGE_3    3.855003\n",
       "18             COUNTRY_BAN    1.469017\n",
       "19             COUNTRY_ENG    1.391524\n",
       "20             COUNTRY_IND    4.568898\n",
       "21              COUNTRY_NZ    1.497856\n",
       "22             COUNTRY_PAK    1.796355\n",
       "23              COUNTRY_SA    1.886555\n",
       "24              COUNTRY_SL    1.984902\n",
       "25              COUNTRY_WI    1.531847\n",
       "26             COUNTRY_ZIM    1.312168\n",
       "27    PLAYING ROLE_Batsman    4.843136\n",
       "28     PLAYING ROLE_Bowler    3.795864\n",
       "29  PLAYING ROLE_W. Keeper    3.132044\n",
       "30         CAPTAINCY EXP_1    4.245128"
      ]
     },
     "execution_count": 68,
     "metadata": {},
     "output_type": "execute_result"
    }
   ],
   "source": [
    "vif_factors=get_vif_factors(x[x_features])\n",
    "vif_factors\n",
    "\n"
   ]
  },
  {
   "cell_type": "markdown",
   "metadata": {},
   "source": [
    "#####  Checking correlation of columns with large VIFs"
   ]
  },
  {
   "cell_type": "markdown",
   "metadata": {},
   "source": [
    "I am making a correlation heatmap to understand the correaltion between the independent variables whcih will be used to decide which features to be included in the model. I am selecting features with vIF value more than 4"
   ]
  },
  {
   "cell_type": "code",
   "execution_count": 69,
   "metadata": {},
   "outputs": [],
   "source": [
    "columns_vif=vif_factors[vif_factors.VIF>4].column"
   ]
  },
  {
   "cell_type": "code",
   "execution_count": 70,
   "metadata": {},
   "outputs": [
    {
     "data": {
      "text/plain": [
       "0                   T-RUNS\n",
       "1                   T-WKTS\n",
       "2               ODI-RUNS-S\n",
       "3                 ODI-SR-B\n",
       "4                 ODI-WKTS\n",
       "5                ODI-SR-BL\n",
       "6                   RUNS-S\n",
       "7                       HS\n",
       "8                      AVE\n",
       "9                     SR-B\n",
       "10                  SIXERS\n",
       "11                  RUNS-C\n",
       "12                    WKTS\n",
       "13                  AVE-BL\n",
       "14                    ECON\n",
       "15                   SR-BL\n",
       "16                   AGE_2\n",
       "20             COUNTRY_IND\n",
       "27    PLAYING ROLE_Batsman\n",
       "30         CAPTAINCY EXP_1\n",
       "Name: column, dtype: object"
      ]
     },
     "execution_count": 70,
     "metadata": {},
     "output_type": "execute_result"
    }
   ],
   "source": [
    "columns_vif"
   ]
  },
  {
   "cell_type": "code",
   "execution_count": 71,
   "metadata": {},
   "outputs": [
    {
     "data": {
      "text/plain": [
       "Text(0.5, 1, 'heatmap depicting corr between features')"
      ]
     },
     "execution_count": 71,
     "metadata": {},
     "output_type": "execute_result"
    },
    {
     "data": {
      "image/png": "[encoded data removed]",
      "text/plain": [
       "<Figure size 864x720 with 2 Axes>"
      ]
     },
     "metadata": {
      "needs_background": "light"
     },
     "output_type": "display_data"
    }
   ],
   "source": [
    "import seaborn as sn\n",
    "import matplotlib.pyplot as plt\n",
    "plt.figure(figsize=(12,10))\n",
    "sn.heatmap(x[columns_vif].corr(), annot = True)\n",
    "plt.title(\"heatmap depicting corr between features\")"
   ]
  },
  {
   "cell_type": "markdown",
   "metadata": {},
   "source": [
    "To avoid multicollinearity, I will keep only one column from each group of highly correlated variables and remove the others. We have decided to remove the following features."
   ]
  },
  {
   "cell_type": "code",
   "execution_count": 87,
   "metadata": {},
   "outputs": [
    {
     "data": {
      "text/plain": [
       "['COUNTRY_SA',\n",
       " 'COUNTRY_WI',\n",
       " 'SIXERS',\n",
       " 'ODI-SR-BL',\n",
       " 'PLAYING ROLE_W. Keeper',\n",
       " 'COUNTRY_IND',\n",
       " 'COUNTRY_SL',\n",
       " 'AGE_3',\n",
       " 'COUNTRY_ENG',\n",
       " 'ODI-WKTS',\n",
       " 'COUNTRY_BAN',\n",
       " 'COUNTRY_PAK',\n",
       " 'COUNTRY_ZIM',\n",
       " 'PLAYING ROLE_Bowler',\n",
       " 'WKTS',\n",
       " 'COUNTRY_NZ',\n",
       " 'PLAYING ROLE_Batsman',\n",
       " 'CAPTAINCY EXP_1']"
      ]
     },
     "execution_count": 87,
     "metadata": {},
     "output_type": "execute_result"
    }
   ],
   "source": [
    "columns_removed = ['T-RUNS','T-WKTS','RUNS-S', 'HS', 'AVE','RUNS-C','SR-B','AVE-BL',\n",
    "                            'ECON', 'ODI-SR-B','ODI-RUNS-S','SR-BL', 'AGE_2']\n",
    "x_new_features = list(set(x_features) - set(columns_removed))\n",
    "x_new_features"
   ]
  },
  {
   "cell_type": "code",
   "execution_count": 88,
   "metadata": {},
   "outputs": [
    {
     "data": {
      "text/html": [
       "<div>\n",
       "<style scoped>\n",
       "    .dataframe tbody tr th:only-of-type {\n",
       "        vertical-align: middle;\n",
       "    }\n",
       "\n",
       "    .dataframe tbody tr th {\n",
       "        vertical-align: top;\n",
       "    }\n",
       "\n",
       "    .dataframe thead th {\n",
       "        text-align: right;\n",
       "    }\n",
       "</style>\n",
       "<table border=\"1\" class=\"dataframe\">\n",
       "  <thead>\n",
       "    <tr style=\"text-align: right;\">\n",
       "      <th></th>\n",
       "      <th>column</th>\n",
       "      <th>VIF</th>\n",
       "    </tr>\n",
       "  </thead>\n",
       "  <tbody>\n",
       "    <tr>\n",
       "      <th>0</th>\n",
       "      <td>COUNTRY_SA</td>\n",
       "      <td>1.416657</td>\n",
       "    </tr>\n",
       "    <tr>\n",
       "      <th>1</th>\n",
       "      <td>COUNTRY_WI</td>\n",
       "      <td>1.194093</td>\n",
       "    </tr>\n",
       "    <tr>\n",
       "      <th>2</th>\n",
       "      <td>SIXERS</td>\n",
       "      <td>2.397409</td>\n",
       "    </tr>\n",
       "    <tr>\n",
       "      <th>3</th>\n",
       "      <td>ODI-SR-BL</td>\n",
       "      <td>2.822148</td>\n",
       "    </tr>\n",
       "    <tr>\n",
       "      <th>4</th>\n",
       "      <td>PLAYING ROLE_W. Keeper</td>\n",
       "      <td>1.900941</td>\n",
       "    </tr>\n",
       "    <tr>\n",
       "      <th>5</th>\n",
       "      <td>COUNTRY_IND</td>\n",
       "      <td>3.144668</td>\n",
       "    </tr>\n",
       "    <tr>\n",
       "      <th>6</th>\n",
       "      <td>COUNTRY_SL</td>\n",
       "      <td>1.519752</td>\n",
       "    </tr>\n",
       "    <tr>\n",
       "      <th>7</th>\n",
       "      <td>AGE_3</td>\n",
       "      <td>1.779861</td>\n",
       "    </tr>\n",
       "    <tr>\n",
       "      <th>8</th>\n",
       "      <td>COUNTRY_ENG</td>\n",
       "      <td>1.131869</td>\n",
       "    </tr>\n",
       "    <tr>\n",
       "      <th>9</th>\n",
       "      <td>ODI-WKTS</td>\n",
       "      <td>2.742889</td>\n",
       "    </tr>\n",
       "    <tr>\n",
       "      <th>10</th>\n",
       "      <td>COUNTRY_BAN</td>\n",
       "      <td>1.094293</td>\n",
       "    </tr>\n",
       "    <tr>\n",
       "      <th>11</th>\n",
       "      <td>COUNTRY_PAK</td>\n",
       "      <td>1.334773</td>\n",
       "    </tr>\n",
       "    <tr>\n",
       "      <th>12</th>\n",
       "      <td>COUNTRY_ZIM</td>\n",
       "      <td>1.205305</td>\n",
       "    </tr>\n",
       "    <tr>\n",
       "      <th>13</th>\n",
       "      <td>PLAYING ROLE_Bowler</td>\n",
       "      <td>3.060168</td>\n",
       "    </tr>\n",
       "    <tr>\n",
       "      <th>14</th>\n",
       "      <td>WKTS</td>\n",
       "      <td>2.883101</td>\n",
       "    </tr>\n",
       "    <tr>\n",
       "      <th>15</th>\n",
       "      <td>COUNTRY_NZ</td>\n",
       "      <td>1.173418</td>\n",
       "    </tr>\n",
       "    <tr>\n",
       "      <th>16</th>\n",
       "      <td>PLAYING ROLE_Batsman</td>\n",
       "      <td>2.680207</td>\n",
       "    </tr>\n",
       "    <tr>\n",
       "      <th>17</th>\n",
       "      <td>CAPTAINCY EXP_1</td>\n",
       "      <td>2.458745</td>\n",
       "    </tr>\n",
       "  </tbody>\n",
       "</table>\n",
       "</div>"
      ],
      "text/plain": [
       "                    column       VIF\n",
       "0               COUNTRY_SA  1.416657\n",
       "1               COUNTRY_WI  1.194093\n",
       "2                   SIXERS  2.397409\n",
       "3                ODI-SR-BL  2.822148\n",
       "4   PLAYING ROLE_W. Keeper  1.900941\n",
       "5              COUNTRY_IND  3.144668\n",
       "6               COUNTRY_SL  1.519752\n",
       "7                    AGE_3  1.779861\n",
       "8              COUNTRY_ENG  1.131869\n",
       "9                 ODI-WKTS  2.742889\n",
       "10             COUNTRY_BAN  1.094293\n",
       "11             COUNTRY_PAK  1.334773\n",
       "12             COUNTRY_ZIM  1.205305\n",
       "13     PLAYING ROLE_Bowler  3.060168\n",
       "14                    WKTS  2.883101\n",
       "15              COUNTRY_NZ  1.173418\n",
       "16    PLAYING ROLE_Batsman  2.680207\n",
       "17         CAPTAINCY EXP_1  2.458745"
      ]
     },
     "execution_count": 88,
     "metadata": {},
     "output_type": "execute_result"
    }
   ],
   "source": [
    "get_vif_factors(x[x_new_features])"
   ]
  },
  {
   "cell_type": "markdown",
   "metadata": {},
   "source": [
    "The VIFs on the final set of variables indicate that there is no multicollinearity present anymore. Now we can proceed to build the model with this set of variables now."
   ]
  },
  {
   "cell_type": "markdown",
   "metadata": {},
   "source": [
    "#### Build a new model after Removing Multi-collinearity"
   ]
  },
  {
   "cell_type": "code",
   "execution_count": 91,
   "metadata": {},
   "outputs": [
    {
     "data": {
      "text/html": [
       "<table class=\"simpletable\">\n",
       "<tr>\n",
       "          <td>Model:</td>                 <td>OLS</td>       <td>Adj. R-squared (uncentered):</td>    <td>0.842</td>  \n",
       "</tr>\n",
       "<tr>\n",
       "    <td>Dependent Variable:</td>      <td>SOLD PRICE</td>                <td>AIC:</td>              <td>711.3341</td> \n",
       "</tr>\n",
       "<tr>\n",
       "           <td>Date:</td>          <td>2021-08-04 14:27</td>             <td>BIC:</td>              <td>716.3665</td> \n",
       "</tr>\n",
       "<tr>\n",
       "     <td>No. Observations:</td>           <td>26</td>               <td>Log-Likelihood:</td>         <td>-351.67</td> \n",
       "</tr>\n",
       "<tr>\n",
       "         <td>Df Model:</td>                <td>4</td>                <td>F-statistic:</td>            <td>35.64</td>  \n",
       "</tr>\n",
       "<tr>\n",
       "       <td>Df Residuals:</td>             <td>22</td>             <td>Prob (F-statistic):</td>      <td>2.57e-09</td> \n",
       "</tr>\n",
       "<tr>\n",
       "  <td>R-squared (uncentered):</td>       <td>0.866</td>                 <td>Scale:</td>            <td>3.8754e+10</td>\n",
       "</tr>\n",
       "</table>\n",
       "<table class=\"simpletable\">\n",
       "<tr>\n",
       "         <td></td>             <th>Coef.</th>     <th>Std.Err.</th>      <th>t</th>    <th>P>|t|</th>   <th>[0.025</th>       <th>0.975]</th>   \n",
       "</tr>\n",
       "<tr>\n",
       "  <th>COUNTRY_ENG</th>     <td>1233485.8930</td> <td>213032.2715</td> <td>5.7901</td> <td>0.0000</td> <td>791684.0026</td> <td>1675287.7833</td>\n",
       "</tr>\n",
       "<tr>\n",
       "  <th>COUNTRY_IND</th>      <td>275288.0064</td> <td>77907.5371</td>  <td>3.5335</td> <td>0.0019</td> <td>113717.6634</td>  <td>436858.3494</td>\n",
       "</tr>\n",
       "<tr>\n",
       "  <th>SIXERS</th>            <td>6535.3772</td>   <td>1799.5869</td>  <td>3.6316</td> <td>0.0015</td>  <td>2803.2624</td>   <td>10267.4920</td> \n",
       "</tr>\n",
       "<tr>\n",
       "  <th>CAPTAINCY EXP_1</th>  <td>303443.3526</td> <td>81806.4508</td>  <td>3.7093</td> <td>0.0012</td> <td>133787.1576</td>  <td>473099.5477</td>\n",
       "</tr>\n",
       "</table>\n",
       "<table class=\"simpletable\">\n",
       "<tr>\n",
       "     <td>Omnibus:</td>     <td>0.430</td>  <td>Durbin-Watson:</td>   <td>2.131</td>\n",
       "</tr>\n",
       "<tr>\n",
       "  <td>Prob(Omnibus):</td>  <td>0.807</td> <td>Jarque-Bera (JB):</td> <td>0.363</td>\n",
       "</tr>\n",
       "<tr>\n",
       "       <td>Skew:</td>     <td>-0.257</td>     <td>Prob(JB):</td>     <td>0.834</td>\n",
       "</tr>\n",
       "<tr>\n",
       "     <td>Kurtosis:</td>    <td>2.736</td>  <td>Condition No.:</td>    <td>143</td> \n",
       "</tr>\n",
       "</table>"
      ],
      "text/plain": [
       "<class 'statsmodels.iolib.summary2.Summary'>\n",
       "\"\"\"\n",
       "                        Results: Ordinary least squares\n",
       "================================================================================\n",
       "Model:                  OLS              Adj. R-squared (uncentered): 0.842     \n",
       "Dependent Variable:     SOLD PRICE       AIC:                         711.3341  \n",
       "Date:                   2021-08-04 14:27 BIC:                         716.3665  \n",
       "No. Observations:       26               Log-Likelihood:              -351.67   \n",
       "Df Model:               4                F-statistic:                 35.64     \n",
       "Df Residuals:           22               Prob (F-statistic):          2.57e-09  \n",
       "R-squared (uncentered): 0.866            Scale:                       3.8754e+10\n",
       "--------------------------------------------------------------------------------\n",
       "                    Coef.       Std.Err.    t    P>|t|     [0.025      0.975]   \n",
       "--------------------------------------------------------------------------------\n",
       "COUNTRY_ENG      1233485.8930 213032.2715 5.7901 0.0000 791684.0026 1675287.7833\n",
       "COUNTRY_IND       275288.0064  77907.5371 3.5335 0.0019 113717.6634  436858.3494\n",
       "SIXERS              6535.3772   1799.5869 3.6316 0.0015   2803.2624   10267.4920\n",
       "CAPTAINCY EXP_1   303443.3526  81806.4508 3.7093 0.0012 133787.1576  473099.5477\n",
       "--------------------------------------------------------------------------------\n",
       "Omnibus:                    0.430             Durbin-Watson:               2.131\n",
       "Prob(Omnibus):              0.807             Jarque-Bera (JB):            0.363\n",
       "Skew:                       -0.257            Prob(JB):                    0.834\n",
       "Kurtosis:                   2.736             Condition No.:               143  \n",
       "================================================================================\n",
       "\n",
       "\"\"\""
      ]
     },
     "execution_count": 91,
     "metadata": {},
     "output_type": "execute_result"
    }
   ],
   "source": [
    "significant_vars=['COUNTRY_ENG','COUNTRY_IND','SIXERS','CAPTAINCY EXP_1']\n",
    "x_train=x_train[significant_vars]\n",
    "ipl_model_3=sm.OLS(y_train,x_train).fit()\n",
    "ipl_model_3.summary2()"
   ]
  },
  {
   "cell_type": "markdown",
   "metadata": {},
   "source": [
    "##### Based on the p- values, only the variables Country_IND, Country_ENG, SIXERS, CAPTAINCY EXP_1 have come out statically significant. So, the features that decide the cold price are\n",
    "\n",
    "1. Players belong to India or the origin country of the player\n",
    "2. How many sixes has the player hit in the previous of the IPL?\n",
    "3. How many wickets have been taken by the player in ODI?\n",
    "4. Player has any previous captaincy experience or not?"
   ]
  },
  {
   "cell_type": "markdown",
   "metadata": {},
   "source": [
    "## THANK YOU!!!"
   ]
  },
  {
   "cell_type": "markdown",
   "metadata": {},
   "source": []
  }
 ],
 "metadata": {
  "kernelspec": {
   "display_name": "Python 3",
   "language": "python",
   "name": "python3"
  },
  "language_info": {
   "codemirror_mode": {
    "name": "ipython",
    "version": 3
   },
   "file_extension": ".py",
   "mimetype": "text/x-python",
   "name": "python",
   "nbconvert_exporter": "python",
   "pygments_lexer": "ipython3",
   "version": "3.7.6"
  }
 },
 "nbformat": 4,
 "nbformat_minor": 4
}
